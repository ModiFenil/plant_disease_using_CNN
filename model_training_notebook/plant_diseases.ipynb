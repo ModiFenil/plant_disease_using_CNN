version https://git-lfs.github.com/spec/v1
oid sha256:da4e4b4a30df9d33588c2d969d29be5a2294400f80346e28e35980afca3dda07
size 332569
